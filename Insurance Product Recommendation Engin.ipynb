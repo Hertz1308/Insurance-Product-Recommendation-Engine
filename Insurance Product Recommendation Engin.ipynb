{
 "cells": [
  {
   "cell_type": "code",
   "execution_count": 28,
   "id": "d6102371-c06e-4d43-8b50-0327064b929b",
   "metadata": {},
   "outputs": [
    {
     "name": "stdout",
     "output_type": "stream",
     "text": [
      "Requirement already satisfied: shap in c:\\users\\hari\\appdata\\local\\programs\\python\\python312\\lib\\site-packages (0.48.0)\n",
      "Requirement already satisfied: numpy in c:\\users\\hari\\appdata\\local\\programs\\python\\python312\\lib\\site-packages (from shap) (1.26.4)\n",
      "Requirement already satisfied: scipy in c:\\users\\hari\\appdata\\local\\programs\\python\\python312\\lib\\site-packages (from shap) (1.13.0)\n",
      "Requirement already satisfied: scikit-learn in c:\\users\\hari\\appdata\\local\\programs\\python\\python312\\lib\\site-packages (from shap) (1.4.2)\n",
      "Requirement already satisfied: pandas in c:\\users\\hari\\appdata\\local\\programs\\python\\python312\\lib\\site-packages (from shap) (2.2.2)\n",
      "Requirement already satisfied: tqdm>=4.27.0 in c:\\users\\hari\\appdata\\local\\programs\\python\\python312\\lib\\site-packages (from shap) (4.66.5)\n",
      "Requirement already satisfied: packaging>20.9 in c:\\users\\hari\\appdata\\local\\programs\\python\\python312\\lib\\site-packages (from shap) (24.0)\n",
      "Requirement already satisfied: slicer==0.0.8 in c:\\users\\hari\\appdata\\local\\programs\\python\\python312\\lib\\site-packages (from shap) (0.0.8)\n",
      "Requirement already satisfied: numba>=0.54 in c:\\users\\hari\\appdata\\local\\programs\\python\\python312\\lib\\site-packages (from shap) (0.61.2)\n",
      "Requirement already satisfied: cloudpickle in c:\\users\\hari\\appdata\\local\\programs\\python\\python312\\lib\\site-packages (from shap) (3.1.1)\n",
      "Requirement already satisfied: typing-extensions in c:\\users\\hari\\appdata\\local\\programs\\python\\python312\\lib\\site-packages (from shap) (4.14.1)\n",
      "Requirement already satisfied: llvmlite<0.45,>=0.44.0dev0 in c:\\users\\hari\\appdata\\local\\programs\\python\\python312\\lib\\site-packages (from numba>=0.54->shap) (0.44.0)\n",
      "Requirement already satisfied: colorama in c:\\users\\hari\\appdata\\local\\programs\\python\\python312\\lib\\site-packages (from tqdm>=4.27.0->shap) (0.4.6)\n",
      "Requirement already satisfied: python-dateutil>=2.8.2 in c:\\users\\hari\\appdata\\local\\programs\\python\\python312\\lib\\site-packages (from pandas->shap) (2.9.0.post0)\n",
      "Requirement already satisfied: pytz>=2020.1 in c:\\users\\hari\\appdata\\local\\programs\\python\\python312\\lib\\site-packages (from pandas->shap) (2024.1)\n",
      "Requirement already satisfied: tzdata>=2022.7 in c:\\users\\hari\\appdata\\local\\programs\\python\\python312\\lib\\site-packages (from pandas->shap) (2024.1)\n",
      "Requirement already satisfied: joblib>=1.2.0 in c:\\users\\hari\\appdata\\local\\programs\\python\\python312\\lib\\site-packages (from scikit-learn->shap) (1.4.2)\n",
      "Requirement already satisfied: threadpoolctl>=2.0.0 in c:\\users\\hari\\appdata\\local\\programs\\python\\python312\\lib\\site-packages (from scikit-learn->shap) (3.5.0)\n",
      "Requirement already satisfied: six>=1.5 in c:\\users\\hari\\appdata\\local\\programs\\python\\python312\\lib\\site-packages (from python-dateutil>=2.8.2->pandas->shap) (1.16.0)\n"
     ]
    },
    {
     "name": "stderr",
     "output_type": "stream",
     "text": [
      "\n",
      "[notice] A new release of pip is available: 24.2 -> 25.1.1\n",
      "[notice] To update, run: C:\\Users\\Hari\\AppData\\Local\\Programs\\Python\\Python312\\python.exe -m pip install --upgrade pip\n"
     ]
    }
   ],
   "source": [
    "import sys\n",
    "!{sys.executable} -m pip install shap\n"
   ]
  },
  {
   "cell_type": "code",
   "execution_count": 29,
   "id": "0370f01a-92fa-4cc3-9e3f-1779dd0d611d",
   "metadata": {},
   "outputs": [],
   "source": [
    "import pandas as pd\n",
    "import numpy as np\n",
    "from sklearn.preprocessing import StandardScaler, LabelEncoder\n",
    "from sklearn.metrics.pairwise import cosine_similarity\n",
    "import xgboost as xgb\n",
    "import warnings\n",
    "warnings.filterwarnings('ignore')"
   ]
  },
  {
   "cell_type": "code",
   "execution_count": 30,
   "id": "20e5eb28-fc74-4897-88c6-91416b25dec1",
   "metadata": {},
   "outputs": [],
   "source": [
    "data = pd.read_csv('WA_Fn-UseC_-Marketing-Customer-Value-Analysis.csv')\n",
    "user_info = data[['Customer Lifetime Value', 'Income', 'Total Claim Amount', 'Marital Status', 'Vehicle Class', 'Education']].copy().dropna()\n"
   ]
  },
  {
   "cell_type": "code",
   "execution_count": 31,
   "id": "1a4ddb88-d3c6-4c4f-9e3c-6c32f9bce6e9",
   "metadata": {},
   "outputs": [],
   "source": [
    "marital_encoder = LabelEncoder()\n",
    "vehicle_encoder = LabelEncoder()\n",
    "education_encoder = LabelEncoder()\n",
    "user_info['Marital Status'] = marital_encoder.fit_transform(user_info['Marital Status'])\n",
    "user_info['Vehicle Class'] = vehicle_encoder.fit_transform(user_info['Vehicle Class'])\n",
    "user_info['Education'] = education_encoder.fit_transform(user_info['Education'])"
   ]
  },
  {
   "cell_type": "code",
   "execution_count": 32,
   "id": "49138664-048d-407b-9296-2ea055d39832",
   "metadata": {},
   "outputs": [],
   "source": [
    "num_scaler = StandardScaler()\n",
    "numeric_cols = ['Customer Lifetime Value', 'Income', 'Total Claim Amount']\n",
    "user_info[numeric_cols] = num_scaler.fit_transform(user_info[numeric_cols])"
   ]
  },
  {
   "cell_type": "code",
   "execution_count": 33,
   "id": "c8244883-a878-4f4d-a342-d988a53271ed",
   "metadata": {},
   "outputs": [],
   "source": [
    "policies = pd.DataFrame({\n",
    "    'policy_name': ['Term Life', 'Health Plan', 'Car Insurance', 'Whole Life', \n",
    "                    'Term Insurance 1', 'Term Insurance 2', 'Car Insurance 1', 'Car Insurance 2'],\n",
    "    'monthly_cost': [500, 800, 600, 1000, 400, 700, 450, 750],\n",
    "    'target_value': [0.5, 0.0, -0.5, 1.0, 0.4, 0.6, -0.6, -0.4],\n",
    "    'target_income': [0.5, 0.0, -0.5, 1.0, 0.3, 0.7, -0.7, -0.3],\n",
    "    'target_claims': [0.0, 0.5, 1.0, -0.5, 0.1, -0.1, 0.9, 1.1],\n",
    "    'target_marital': [1, 1, 0, 1, 1, 1, 0, 0],\n",
    "    'target_vehicle': [2, 0, 3, 1, 2, 1, 3, 4],\n",
    "    'target_education': [1, 2, 0, 1, 1, 2, 0, 1]\n",
    "})\n"
   ]
  },
  {
   "cell_type": "code",
   "execution_count": 34,
   "id": "cd8d9bd6-45bc-4978-bb51-5ec971729223",
   "metadata": {},
   "outputs": [],
   "source": [
    "customer_features = user_info[['Customer Lifetime Value', 'Income', 'Total Claim Amount', 'Marital Status', 'Vehicle Class', 'Education']].values\n",
    "policy_features = policies[['target_value', 'target_income', 'target_claims', 'target_marital', 'target_vehicle', 'target_education']].values\n",
    "similarity_scores = cosine_similarity(customer_features, policy_features)\n",
    "\n",
    "train_data = []\n",
    "train_labels = []\n",
    "group_sizes = []\n",
    "for i in range(len(user_info)):\n",
    "    for j in range(len(policies)):\n",
    "        train_data.append(np.concatenate([user_info.iloc[i].values, policy_features[j]]))\n",
    "        train_labels.append(similarity_scores[i][j])\n",
    "    group_sizes.append(len(policies))"
   ]
  },
  {
   "cell_type": "code",
   "execution_count": 35,
   "id": "1ccb62bf-1b7d-4534-904c-e60250fa0b40",
   "metadata": {},
   "outputs": [],
   "source": [
    "dtrain = xgb.DMatrix(np.array(train_data), label=np.array(train_labels))\n",
    "dtrain.set_group(group_sizes)\n",
    "xgb_model = xgb.train({'objective': 'rank:pairwise', 'eta': 0.1, 'max_depth': 6, 'eval_metric': 'ndcg'}, dtrain, num_boost_round=100)"
   ]
  },
  {
   "cell_type": "code",
   "execution_count": 36,
   "id": "231d998f-7ee4-420b-a7da-c6c1150d4473",
   "metadata": {},
   "outputs": [],
   "source": [
    "def get_user_details():\n",
    "    print(\"Enter your info for a policy recommendation:\")\n",
    "    income = float(input(\"Annual Income (e.g., 50000): \"))\n",
    "    marital = input(f\"Marital Status {list(marital_encoder.classes_)}: \")\n",
    "    vehicle = input(f\"Vehicle Type {list(vehicle_encoder.classes_)}: \")\n",
    "    education = input(f\"Education {list(education_encoder.classes_)}: \")\n",
    "    return {'Income': income, 'Marital Status': marital, 'Vehicle Class': vehicle, 'Education': education}\n"
   ]
  },
  {
   "cell_type": "code",
   "execution_count": 37,
   "id": "a86dc070-84dd-42fe-808b-d9ff020d5d13",
   "metadata": {},
   "outputs": [],
   "source": [
    "def process_user_data(details):\n",
    "    user_df = pd.DataFrame([details])\n",
    "    try:\n",
    "        user_df['Marital Status'] = marital_encoder.transform(user_df['Marital Status'])\n",
    "        user_df['Vehicle Class'] = vehicle_encoder.transform(user_df['Vehicle Class'])\n",
    "        user_df['Education'] = education_encoder.transform(user_df['Education'])\n",
    "    except ValueError:\n",
    "        print(\"Invalid input! Please select from the provided options.\")\n",
    "        return None\n",
    "    user_df[['Customer Lifetime Value', 'Total Claim Amount']] = 0  # Default values\n",
    "    user_df[numeric_cols] = num_scaler.transform(user_df[numeric_cols])\n",
    "    return user_df"
   ]
  },
  {
   "cell_type": "code",
   "execution_count": 38,
   "id": "9708456a-c54e-4802-9104-b5322530a268",
   "metadata": {},
   "outputs": [],
   "source": [
    "def suggest_policy(user_data):\n",
    "    if user_data is None:\n",
    "        return None\n",
    "    test_data = [np.concatenate([user_data.iloc[0].values, policies.iloc[j][['target_value', 'target_income', 'target_claims', 'target_marital', 'target_vehicle', 'target_education']].values]) for j in range(len(policies))]\n",
    "    scores = xgb_model.predict(xgb.DMatrix(np.array(test_data)))\n",
    "    \n",
    "    suggestions = policies[['policy_name', 'monthly_cost']].copy()\n",
    "    suggestions['match_score'] = scores\n",
    "    suggestions['profit_factor'] = suggestions['monthly_cost'] / suggestions['monthly_cost'].max()\n",
    "    suggestions['final_score'] = 0.7 * suggestions['match_score'] + 0.3 * suggestions['profit_factor']\n",
    "    best_policy = suggestions.sort_values(by='final_score', ascending=False).iloc[0]\n",
    "    \n",
    "    reason = \"Fits your profile.\"\n",
    "    if best_policy['policy_name'] in ['Term Life', 'Term Insurance 1', 'Term Insurance 2'] and user_data['Marital Status'].iloc[0] == 1:\n",
    "        reason = \"Ideal for your family.\"\n",
    "    elif best_policy['policy_name'] in ['Car Insurance', 'Car Insurance 1', 'Car Insurance 2'] and user_data['Vehicle Class'].iloc[0] in [3, 4, 5]:\n",
    "        reason = \"Suits your vehicle.\"\n",
    "    elif best_policy['policy_name'] == 'Health Plan' and user_data['Education'].iloc[0] >= 2:\n",
    "        reason = \"Matches your education level.\"\n",
    "    \n",
    "    return {\n",
    "        'Policy': best_policy['policy_name'],\n",
    "        'Cost': best_policy['monthly_cost'],\n",
    "        'Score': round(best_policy['final_score'], 3),\n",
    "        'Reason': reason\n",
    "    }\n"
   ]
  },
  {
   "cell_type": "code",
   "execution_count": 39,
   "id": "e66773a2-0ad7-44cc-84d8-5f2bd90aefd3",
   "metadata": {},
   "outputs": [
    {
     "name": "stdout",
     "output_type": "stream",
     "text": [
      "Welcome to Policy Recommender\n",
      "\n",
      "Enter your info for a policy recommendation:\n"
     ]
    },
    {
     "name": "stdin",
     "output_type": "stream",
     "text": [
      "Annual Income (e.g., 50000):  5000\n",
      "Marital Status ['Divorced', 'Married', 'Single']:  Single\n",
      "Vehicle Type ['Four-Door Car', 'Luxury Car', 'Luxury SUV', 'SUV', 'Sports Car', 'Two-Door Car']:  SUV\n",
      "Education ['Bachelor', 'College', 'Doctor', 'High School or Below', 'Master']:  Master\n"
     ]
    },
    {
     "name": "stdout",
     "output_type": "stream",
     "text": [
      "\n",
      "Recommended Policy: Term Insurance 2\n",
      "Monthly Cost: $700\n",
      "Confidence: 0.389\n",
      "Why: Fits your profile.\n"
     ]
    }
   ],
   "source": [
    "print(\"Welcome to Policy Recommender\\n\")\n",
    "user_details = get_user_details()\n",
    "processed_data = process_user_data(user_details)\n",
    "if processed_data is not None:\n",
    "    suggestion = suggest_policy(processed_data)\n",
    "    if suggestion:\n",
    "        print(f\"\\nRecommended Policy: {suggestion['Policy']}\")\n",
    "        print(f\"Monthly Cost: ${suggestion['Cost']}\")\n",
    "        print(f\"Confidence: {suggestion['Score']}\")\n",
    "        print(f\"Why: {suggestion['Reason']}\")"
   ]
  }
 ],
 "metadata": {
  "kernelspec": {
   "display_name": "Python 3 (ipykernel)",
   "language": "python",
   "name": "python3"
  },
  "language_info": {
   "codemirror_mode": {
    "name": "ipython",
    "version": 3
   },
   "file_extension": ".py",
   "mimetype": "text/x-python",
   "name": "python",
   "nbconvert_exporter": "python",
   "pygments_lexer": "ipython3",
   "version": "3.12.3"
  }
 },
 "nbformat": 4,
 "nbformat_minor": 5
}
